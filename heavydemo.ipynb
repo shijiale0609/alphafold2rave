{
  "cells": [
    {
      "cell_type": "markdown",
      "metadata": {
        "id": "view-in-github",
        "colab_type": "text"
      },
      "source": [
        "<a href=\"https://colab.research.google.com/github/bodhivani/alphafold2rave/blob/main/heavydemo.ipynb\" target=\"_parent\"><img src=\"https://colab.research.google.com/assets/colab-badge.svg\" alt=\"Open In Colab\"/></a>"
      ]
    },
    {
      "cell_type": "markdown",
      "metadata": {
        "id": "kZ613ayE_rlr"
      },
      "source": [
        "# alphafold2rave colab demo (heavy)\n",
        "\n",
        "This colab is intended to demonstrate in detail the code used in [Vani, Aranganathan et al.](https://doi.org/10.1101/2022.05.25.493365), **\"AlphaFold2-RAVE: From sequence to Boltzmann ensemble\"**. We use the cold-shock protein as our tutorial system.\n",
        "\n",
        "This can be used as a step-by-step runthrough of the entire protocol, and to make this feasible, we have chosen hyperparameters that allow for fast simulations. For robustness, these should be increased as noted.\n",
        "\n"
      ]
    },
    {
      "cell_type": "markdown",
      "metadata": {
        "id": "r0w5GZQcHirt"
      },
      "source": [
        "# ColabFold (altered for stochasticity)"
      ]
    },
    {
      "cell_type": "code",
      "execution_count": null,
      "metadata": {
        "cellView": "form",
        "colab": {
          "base_uri": "https://localhost:8080/",
          "height": 67,
          "referenced_widgets": [
            "cfe3dffbae854f72bb592b4fea635725",
            "e3984f53ea724ed2b42b87e94b219ab2",
            "93c68dc3536543f9a01467eb96d450a2",
            "d575aa35e99a4f099c835cce6da3fd07",
            "2d8ee76947f341208fe69f86953d0803",
            "a5957ea644e8408f93e64395d0b8596a",
            "8557c77c92e540f688585ecb85361601",
            "76daad3123584ce3bbe4901619adcdde",
            "2a15057a137542368b9d33c2dfaec84f",
            "e686aa0882a4430bba4d1a3b8282e025",
            "bfb011f5fa03414b896106cde2a88f6b"
          ]
        },
        "id": "5sYM9t4T6J5G",
        "outputId": "7cc87c41-3023-4d35-b59c-ce94f09e22ef"
      },
      "outputs": [
        {
          "name": "stdout",
          "output_type": "stream",
          "text": [
            "Running on GPU\n"
          ]
        },
        {
          "data": {
            "application/vnd.jupyter.widget-view+json": {
              "model_id": "cfe3dffbae854f72bb592b4fea635725",
              "version_major": 2,
              "version_minor": 0
            },
            "text/plain": [
              "  0%|          | 0/55 [elapsed: 00:00 remaining: ?]"
            ]
          },
          "metadata": {},
          "output_type": "display_data"
        }
      ],
      "source": [
        "#@title Install ColabFold\n",
        "# setup device\n",
        "from IPython.display import clear_output\n",
        "!mkdir struct_gen\n",
        "%cd /content/struct_gen/.\n",
        "clear_output()\n",
        "\n",
        "import warnings\n",
        "warnings.simplefilter(action='ignore', category=FutureWarning)\n",
        "\n",
        "import os\n",
        "import sys\n",
        "import tensorflow as tf\n",
        "import jax\n",
        "\n",
        "try:\n",
        "  # check if TPU is available\n",
        "  import jax.tools.colab_tpu\n",
        "  jax.tools.colab_tpu.setup_tpu()\n",
        "  print('Running on TPU')\n",
        "  DEVICE = \"tpu\"\n",
        "except:\n",
        "  if jax.local_devices()[0].platform == 'cpu':\n",
        "    print(\"WARNING: no GPU detected, will be using CPU\")\n",
        "    DEVICE = \"cpu\"\n",
        "  else:\n",
        "    print('Running on GPU')\n",
        "    DEVICE = \"gpu\"\n",
        "    # disable GPU on tensorflow\n",
        "    tf.config.set_visible_devices([], 'GPU')\n",
        "\n",
        "from IPython.utils import io\n",
        "import subprocess\n",
        "import tqdm.notebook\n",
        "\n",
        "\n",
        "install_jackhmmer = True      #not required\n",
        "\n",
        "#AF2 repo from deepmind\n",
        "GIT_REPO = 'https://github.com/deepmind/alphafold'\n",
        "#AF2 params\n",
        "SOURCE_URL = 'https://storage.googleapis.com/alphafold/alphafold_params_2021-07-14.tar'\n",
        "\n",
        "PARAMS_DIR = './alphafold/data/params'\n",
        "PARAMS_PATH = os.path.join(PARAMS_DIR, os.path.basename(SOURCE_URL))\n",
        "\n",
        "TMP_DIR = \"tmp\"\n",
        "os.makedirs(TMP_DIR, exist_ok=True)\n",
        "\n",
        "#tqdm specification\n",
        "TQDM_BAR_FORMAT = '{l_bar}{bar}| {n_fmt}/{total_fmt} [elapsed: {elapsed} remaining: {remaining}]'\n",
        "# if not already installed\n",
        "total = 55\n",
        "with tqdm.notebook.tqdm(total=total, bar_format=TQDM_BAR_FORMAT) as pbar:\n",
        "  if not os.path.isdir(\"alphafold\"):\n",
        "    # download alphafold code and clone colabfold repo\n",
        "    os.system(f\"git clone {GIT_REPO} alphafold; cd alphafold; git checkout 1d43aaff941c84dc56311076b58795797e49107b\")\n",
        "    os.system(f\"git clone https://github.com/sokrypton/ColabFold.git\")\n",
        "\n",
        "    # apply patches\n",
        "    os.system(f\"patch -u alphafold/alphafold/model/model.py -i ColabFold/beta/model.patch\")\n",
        "    os.system(f\"patch -u alphafold/alphafold/model/mapping.py -i ColabFold/beta/mapping.patch\")\n",
        "    os.system(f\"patch -u alphafold/alphafold/model/modules.py -i ColabFold/beta/modules.patch\")\n",
        "    os.system(f\"patch -u alphafold/alphafold/model/folding.py -i ColabFold/beta/folding.patch\")\n",
        "    os.system(f\"patch -u alphafold/alphafold/model/config.py -i ColabFold/beta/config.patch\")\n",
        "    # apply multi-chain patch from Lim Heo @huhlim\n",
        "    os.system(f\"patch -u alphafold/alphafold/common/protein.py -i ColabFold/beta/protein.patch\")\n",
        "    pbar.update(4)\n",
        "\n",
        "    #install biopython\n",
        "    os.system(f\"pip install biopython dm-haiku==0.0.5 ml-collections py3Dmol\")\n",
        "    pbar.update(6)\n",
        "\n",
        "    # download model params (speedup from kaczmarj)\n",
        "    os.system(f\"mkdir --parents {PARAMS_DIR}\")\n",
        "    os.system(f\"curl -fsSL {SOURCE_URL} | tar x -C {PARAMS_DIR}\")\n",
        "    pbar.update(14+27)\n",
        "\n",
        "    # install hhsuite\n",
        "    os.system(f\"curl -fsSL https://github.com/soedinglab/hh-suite/releases/download/v3.3.0/hhsuite-3.3.0-SSE2-Linux.tar.gz | tar xz -C {TMP_DIR}/\")\n",
        "\n",
        "    # install jackhmmer   #not required and will remove it\n",
        "    if install_jackhmmer:\n",
        "      os.system(f\"sudo apt install --quiet --yes hmmer\")\n",
        "      pbar.update(3)\n",
        "\n",
        "      # create a ramdisk to store a database chunk to make Jackhmmer run fast.\n",
        "      os.system(f\"sudo mkdir -m 777 --parents /tmp/ramdisk\")\n",
        "      os.system(f\"sudo mount -t tmpfs -o size=9G ramdisk /tmp/ramdisk\")\n",
        "      pbar.update(1)\n",
        "\n",
        "    else:\n",
        "      pbar.update(4)\n",
        "\n",
        "  else:\n",
        "    pbar.update(55)\n",
        "\n",
        "###############################################################################################\n",
        "####    Python imports \n",
        "###############################################################################################\n",
        "if 'alphafold' not in sys.path:\n",
        "  sys.path.append('alphafold')\n",
        "if 'ColabFold/beta' not in sys.path:\n",
        "  sys.path.append('ColabFold/beta')\n",
        "\n",
        "if f\"{TMP_DIR}/bin\" not in os.environ['PATH']:\n",
        "  os.environ['PATH'] += f\":{TMP_DIR}/bin:{TMP_DIR}/scripts\"\n",
        "\n",
        "import colabfold as cf\n",
        "import colabfold_alphafold as cf_af\n",
        "\n",
        "import json\n",
        "import matplotlib.pyplot as plt\n",
        "import numpy as np\n",
        "\n",
        "try:\n",
        "  from google.colab import files\n",
        "  IN_COLAB = True\n",
        "except:\n",
        "  IN_COLAB = False\n",
        "\n",
        "!cd .."
      ]
    },
    {
      "cell_type": "code",
      "execution_count": null,
      "metadata": {
        "cellView": "form",
        "colab": {
          "base_uri": "https://localhost:8080/",
          "height": 1000,
          "referenced_widgets": [
            "0ae04a6f7ba14cd789589707b6a54243",
            "23ceb79ede934f4ebc8f8c368d6bd9d0",
            "69010386fe6446a1be87bf8b71988274",
            "654bd37f78f5477ebcd5bdce8eb97d38",
            "db727556a16a4cda8fced4d35a6cfab1",
            "6505db29a1e940de81080d7d3aebcec4",
            "d387df728d7246718567c892806aa1c5",
            "b8640ed9c12c4f1e83d7a9bdf8516ee8",
            "f3cf2f343fc3459ea7d684a262073a04",
            "f4bc8c83735b45738f06178c02f45390",
            "39592ebcdc064933b0a2f966e0964c9c",
            "9d24e98802cb409a80fbae112e70191f",
            "5d6530447eae4074bcafa803cf60510d",
            "ff03aabb443443f8bc608a3560701054",
            "528d150738494b639f20cdf3df1bdbcd",
            "2dff2148c9aa4652a2b7b43e4520c1cf",
            "a3b70598ae9149abbf4488d14b142170",
            "9b0b3d112a8b45b5a0bb1195a8d3e335",
            "f4429e4195cb4299939bbe5d1d39611c",
            "af1ae852047f48b08a317a8232584b0d",
            "1a963a0277e24366a54f17f499dea8ce",
            "22451daeb3164e4796430510d3ae65ab"
          ]
        },
        "id": "bbiYErPlmEvp",
        "outputId": "51469df3-b11d-4dce-d2de-a4fe9fe013fb"
      },
      "outputs": [
        {
          "name": "stdout",
          "output_type": "stream",
          "text": [
            "\n",
            "Time taken to generate: 24.87111840005  mins\n",
            "The structures can be found in /content/Structures\n"
          ]
        }
      ],
      "source": [
        "#@title Run Colabfold with reduced MSA\n",
        "#Code was taken from COLABFOLD git and modified for convenience \n",
        "import re\n",
        "import time\n",
        "from IPython.display import clear_output\n",
        "\n",
        "%cd /content/struct_gen/.\n",
        "#####################################################################################################################\n",
        "###    Input sequence\n",
        "#####################################################################################################################\n",
        "\n",
        "#@markdown Change this to the amino acid sequence of your system\n",
        "sequence = 'MQRGKVKWFNNEKGYGFIEVEGGSDVFVHFTAIQGEGFKTLEEGQEVSFEIVQGNRGPQAANVVKE' #@param {type:\"string\"}\n",
        "jobname = \"CSP\" #@param {type:\"string\"}\n",
        "homooligomer =  \"1\" #param {type:\"string\"}\n",
        "\n",
        "\n",
        "#####################################################################################################################\n",
        "###    MSA parameters\n",
        "#####################################################################################################################\n",
        "\n",
        "add_custom_msa = False \n",
        "msa_format = \"fas\" \n",
        "pair_mode = \"unpaired\" \n",
        "pair_cov = 50 \n",
        "pair_qid = 20 \n",
        "\n",
        "I = cf_af.prep_inputs(sequence, jobname, homooligomer, clean=IN_COLAB)\n",
        "msa_method = \"mmseqs2\" \n",
        "#I['output_dir']='_'.join(I['output_dir'].split('_')[:-1])\n",
        "I = cf_af.prep_msa(I, msa_method, add_custom_msa, msa_format,\n",
        "                   pair_mode, pair_cov, pair_qid, TMP_DIR=TMP_DIR)\n",
        "mod_I = I\n",
        "clear_output() # ----> Clear the output from previous functions\n",
        "#No relaxation \n",
        "num_relax = \"None\"\n",
        "\n",
        "\n",
        "#####################################################################################################################\n",
        "###    Parameters for running Alphafold\n",
        "#####################################################################################################################\n",
        "rank_by = \"pLDDT\" \n",
        "use_turbo = True \n",
        "#@markdown This parameter can be \"tuned\". Too low, and it doesn't have enough information for sensible predictions. Too high, and it will not generate structural diversity\n",
        "max_msa = \"08:16\" #@param [\"512:1024\", \"256:512\", \"128:256\", \"64:128\", \"32:64\",\"16:32\",\"08:16\",\"04:08\",\"02:04\",\"01:02\",\"02:02\"]\n",
        "#@markdown - `max_msa` defines: `max_msa_clusters:max_extra_msa` number of sequences to use. \n",
        "max_msa_clusters, max_extra_msa = [int(x) for x in max_msa.split(\":\")]\n",
        "\n",
        "show_images = False \n",
        "\n",
        "num_models = 5 \n",
        "use_ptm = True \n",
        "num_ensemble = 1 \n",
        "max_recycles = 1 \n",
        "is_training = True \n",
        "num_samples = 128 #@param [1,2,4,8,16,32,64,128] {type:\"raw\"}\n",
        "#@markdown - `num_samples` defines the number of random seed. (For each seed 5 different models are predicted)  \n",
        "subsample_msa = True \n",
        "\n",
        "if not use_ptm and rank_by == \"pTMscore\":\n",
        "  print(\"WARNING: models will be ranked by pLDDT, 'use_ptm' is needed to compute pTMscore\")\n",
        "  rank_by = \"pLDDT\"\n",
        "\n",
        "# prep input features\n",
        "feature_dict = cf_af.prep_feats(mod_I, clean=IN_COLAB)\n",
        "Ls_plot = feature_dict[\"Ls\"]\n",
        "\n",
        "# prep model options\n",
        "opt = {\"N\":len(feature_dict[\"msa\"]),\n",
        "       \"L\":len(feature_dict[\"residue_index\"]),\n",
        "       \"use_ptm\":use_ptm,\n",
        "       \"use_turbo\":use_turbo,\n",
        "       \"max_recycles\":max_recycles,\n",
        "       \"tol\":0.0,\n",
        "       \"num_ensemble\":num_ensemble,\n",
        "       \"max_msa_clusters\":max_msa_clusters,\n",
        "       \"max_extra_msa\":max_extra_msa,\n",
        "       \"is_training\":is_training}\n",
        "\n",
        "if use_turbo:\n",
        "  if \"runner\" in dir():\n",
        "    # only recompile if options changed\n",
        "    runner = cf_af.prep_model_runner(opt, old_runner=runner)\n",
        "  else:\n",
        "    runner = cf_af.prep_model_runner(opt)\n",
        "else:\n",
        "  runner = None\n",
        "\n",
        "#####################################################################################################################\n",
        "###    Run Alphafold with low MSA \n",
        "#####################################################################################################################\n",
        "t1 = time.perf_counter()\n",
        "outs, model_rank = cf_af.run_alphafold(feature_dict, opt, runner, num_models, num_samples, subsample_msa,\n",
        "                                       rank_by=rank_by, show_images=show_images)\n",
        "\n",
        "\n",
        "\n",
        "#####################################################################################################################\n",
        "###    Output folder\n",
        "#####################################################################################################################\n",
        "\n",
        "structures_path='/content/Structures'   #Output_folder\n",
        "os.makedirs(structures_path)\n",
        "file_path=os.path.join(structures_path,'file_details.txt')\n",
        "with open(file_path, \"w\") as file_details:\n",
        "  for n,key in enumerate(model_rank):\n",
        "    copy_line=f'cp {I[\"output_dir\"]}/rank_{n+1}_{key}_unrelaxed.pdb {structures_path}/pred_{n+1}.pdb'\n",
        "    os.system(copy_line)\n",
        "    if num_relax !=\"None\":\n",
        "      if n<num_relax: \n",
        "        copy_line2=f'cp {I[\"output_dir\"]}/rank_{n+1}_{key}_relaxed.pdb {structures_path}/pred_{n+1}.pdb'\n",
        "        os.system(copy_line2)\n",
        "    line = f\"pred_{n+1}.pdb pLDDT:{outs[key]['pLDDT']:.2f}\" + f\" pTMscore:{outs[key]['pTMscore']:.4f}\" if use_ptm else \"\"\n",
        "    file_details.write(line+\"\\n\")\n",
        "\n",
        "#os.system(f'rm -r {I[output_dir]}')   #--> run this line to delete the second copy of structures\n",
        "%cd /content/\n",
        "os.system(f'zip -FSr Structures.zip {structures_path}')\n",
        "t2 = time.perf_counter()\n",
        "clear_output()\n",
        "print('\\nTime taken to generate:',(t2-t1)/60,' mins')\n",
        "\n",
        "print(f'The structures can be found in {structures_path}')"
      ]
    },
    {
      "cell_type": "markdown",
      "metadata": {
        "id": "w2lt11PSHeGi"
      },
      "source": [
        "# Installations for molecular dynamics"
      ]
    },
    {
      "cell_type": "code",
      "execution_count": null,
      "metadata": {
        "cellView": "form",
        "colab": {
          "base_uri": "https://localhost:8080/"
        },
        "id": "mek6Y0S3icAK",
        "outputId": "75504f67-9a35-4c34-89b3-0f9e806d2fa9"
      },
      "outputs": [
        {
          "name": "stdout",
          "output_type": "stream",
          "text": [
            "Looking in indexes: https://pypi.org/simple, https://us-python.pkg.dev/colab-wheels/public/simple/\n",
            "Collecting condacolab\n",
            "  Using cached condacolab-0.1.4-py3-none-any.whl (6.9 kB)\n",
            "Installing collected packages: condacolab\n",
            "Successfully installed condacolab-0.1.4\n",
            "\u001b[33mWARNING: Running pip as the 'root' user can result in broken permissions and conflicting behaviour with the system package manager. It is recommended to use a virtual environment instead: https://pip.pypa.io/warnings/venv\u001b[0m\u001b[33m\n",
            "\u001b[0m✨🍰✨ Everything looks OK!\n"
          ]
        }
      ],
      "source": [
        "#@title Install condacolab\n",
        "#@markdown After running this cell wait for the kernel to restart (~1min)\n",
        "\n",
        "#@markdown Then, start running the rest of the blocks\n",
        "try:\n",
        "    import google.colab\n",
        "    !pip install condacolab\n",
        "    import condacolab\n",
        "    condacolab.install()\n",
        "except ModuleNotFoundError:\n",
        "    pass"
      ]
    },
    {
      "cell_type": "code",
      "execution_count": null,
      "metadata": {
        "cellView": "form",
        "colab": {
          "base_uri": "https://localhost:8080/"
        },
        "id": "G441cmKTjDYy",
        "outputId": "8da9bb30-5bbb-4efc-daa0-cb8105e5c22d"
      },
      "outputs": [
        {
          "name": "stdout",
          "output_type": "stream",
          "text": [
            "Dependencies successfully installed and imported!\n",
            "time taken to run:0.88 mins\n"
          ]
        }
      ],
      "source": [
        "#@title Install OpenMM with Plumed\n",
        "#@markdown Run this to install and import libraries \n",
        "import time\n",
        "t1 = time.perf_counter()\n",
        "try:\n",
        "    import condacolab\n",
        "    from google.colab import files\n",
        "    from IPython.display import clear_output\n",
        "    condacolab.check()\n",
        "    #!conda install -qy conda==4.13.0\n",
        "    !conda install -q -y -c conda-forge openmm cudatoolkit=11.2 openmmforcefields openmm-plumed pdbfixer mdtraj\n",
        "    !conda install -qy pytorch==1.8.0 -c pytorch -c nvidia\n",
        "    on_colab = True\n",
        "    clear_output()             # clear the excessive installation outputs (disable incase of error check)\n",
        "    print(\"Dependencies successfully installed and imported!\")\n",
        "except ModuleNotFoundError:\n",
        "    on_colab = False\n",
        "\n",
        "\n",
        "# required for simulation with Plumed on gpu\n",
        "from sys import stdout\n",
        "from openmmplumed import PlumedForce\n",
        "from openmm.app import *\n",
        "from openmm import *\n",
        "from openmm.unit import *\n",
        "import pdbfixer\n",
        "\n",
        "# required for analysis\n",
        "import numpy as np\n",
        "import matplotlib.pyplot as plt\n",
        "\n",
        "t2 = time.perf_counter()\n",
        "print(f'time taken to run:{(t2-t1)/60:.2f} mins')\n",
        "\n",
        "#create the directory for colabfold\n"
      ]
    },
    {
      "cell_type": "markdown",
      "metadata": {
        "id": "uTuAXIwvH9Al"
      },
      "source": [
        "# Setup initial files"
      ]
    },
    {
      "cell_type": "code",
      "execution_count": null,
      "metadata": {
        "colab": {
          "base_uri": "https://localhost:8080/"
        },
        "id": "6toIzQOnaRgy",
        "outputId": "80492d60-931b-4f03-847e-f9b0e13fb25d"
      },
      "outputs": [
        {
          "name": "stdout",
          "output_type": "stream",
          "text": [
            "Cloning into 'RAVEfold'...\n",
            "remote: Enumerating objects: 236, done.\u001b[K\n",
            "remote: Counting objects: 100% (109/109), done.\u001b[K\n",
            "remote: Compressing objects: 100% (109/109), done.\u001b[K\n",
            "remote: Total 236 (delta 67), reused 0 (delta 0), pack-reused 127\u001b[K\n",
            "Receiving objects: 100% (236/236), 6.65 MiB | 4.63 MiB/s, done.\n",
            "Resolving deltas: 100% (122/122), done.\n"
          ]
        },
        {
          "name": "stderr",
          "output_type": "stream",
          "text": [
            "Warning: importing 'simtk.openmm' is deprecated.  Import 'openmm' instead.\n"
          ]
        },
        {
          "name": "stdout",
          "output_type": "stream",
          "text": [
            "fatal: destination path 'State-Predictive-Information-Bottleneck' already exists and is not an empty directory.\n",
            "rm: cannot remove 'State-Predictive-Information-Bottleneck/examples': No such file or directory\n"
          ]
        }
      ],
      "source": [
        "#@title Import other requirements\n",
        "\n",
        "import numpy as np\n",
        "import os\n",
        "import time\n",
        "import matplotlib.pyplot as plt\n",
        "\n",
        "os.chdir(\"/content/\")\n",
        "!rm -r alphafold2rave \n",
        "!git clone https://github.com/bodhivani/alphafold2rave\n",
        "\n",
        "!cp alphafold2rave/ravefuncs.py .\n",
        "import ravefuncs as rave\n",
        "import importlib\n",
        "importlib.reload(rave)\n",
        "\n",
        "!git clone https://github.com/tiwarylab/State-Predictive-Information-Bottleneck\n",
        "%rm -r State-Predictive-Information-Bottleneck/examples"
      ]
    },
    {
      "cell_type": "code",
      "execution_count": null,
      "metadata": {
        "id": "HtNhENtAD-mk"
      },
      "outputs": [],
      "source": [
        "#@title Analysis on AF2 structures\n",
        "if os.path.isdir(\"Structures\")==False:\n",
        "  os.system(\"unzip alphafold2rave/CSP_data/structures.zip -d .\")\n",
        "  num_samples=128\n",
        "\n",
        "tot=num_samples*5\n",
        "os.chdir(\"Structures\")\n",
        "os.system('cp ../alphafold2rave/CSP_data/plumed_AF2.dat .')\n",
        "inputline=' '.join([f'pred_{i+1}.pdb' for i in range(tot)])\n",
        "os.system(f'mdconvert {inputline} -o AF2samples.xtc')\n",
        "os.system('plumed driver --plumed plumed_AF2.dat --ixtc AF2samples.xtc')\n",
        "os.chdir(\"..\")"
      ]
    },
    {
      "cell_type": "code",
      "execution_count": null,
      "metadata": {
        "colab": {
          "base_uri": "https://localhost:8080/"
        },
        "id": "4fj1dIUdcn0W",
        "outputId": "da9870dc-7ddd-49c9-f0e0-f39971ee43ab"
      },
      "outputs": [
        {
          "name": "stdout",
          "output_type": "stream",
          "text": [
            "Found 3 centers!\n"
          ]
        }
      ],
      "source": [
        "#@title Cluster to initialize alphafold2rave\n",
        "os.chdir(\"/content\")\n",
        "CVs=np.loadtxt(\"Structures/COLVARS_AF2.dat\")[:,1:]\n",
        "centers,listindices=rave.RegSpaceClustering(CVs,6.5,max_centers=10, batch_size=50) #change to 5 or 5.5 for robustness\n",
        "t_af2=rave.getTrp8(CVs)\n",
        "t_cluster=rave.getTrp8(centers.T)"
      ]
    },
    {
      "cell_type": "markdown",
      "metadata": {
        "id": "gPZrcoohILZ6"
      },
      "source": [
        "# alphafold2rave"
      ]
    },
    {
      "cell_type": "code",
      "execution_count": null,
      "metadata": {
        "colab": {
          "base_uri": "https://localhost:8080/"
        },
        "id": "N79bx1VRhR0l",
        "outputId": "e36c93a8-e1c1-4631-f8dc-f9c2bdb833c2"
      },
      "outputs": [
        {
          "name": "stdout",
          "output_type": "stream",
          "text": [
            "We are at /content/unbiased/1\n",
            "We are at /content/unbiased/262\n",
            "We are at /content/unbiased/627\n",
            "time taken to run:1.84 mins\n"
          ]
        }
      ],
      "source": [
        "#@title Unbiased simulations\n",
        "t1 = time.perf_counter()\n",
        "if os.path.isdir(\"Structures\")==False:\n",
        "  os.system(\"unzip alphafold2rave/CSP_data/structures.zip -d .\")\n",
        "  num_samples=128\n",
        "  listindices=[1, 224, 627, 533]\n",
        "  \n",
        "#@markdown Check the below box to run on GPU\n",
        "on_gpu=True #@param {type:\"boolean\"}\n",
        "#@markdown MD parameters\n",
        "\n",
        "#@markdown Integration Timestep (ps)\n",
        "dt =0.004 #@param{type:\"number\"}\n",
        "#@markdown Temperature (K)\n",
        "temp=300 #@param{type:\"number\"}\n",
        "freq=1 #param{type:\"number\"}\n",
        "#@markdown Number of steps \n",
        "nstep=20000 #@param{type:\"number\"}\n",
        "#markdown Plumed file\n",
        "plumedfile=\"plumed_unb.dat\" #param{type:\"string\"}\n",
        "if os.path.isdir(\"unbiased\")==False:\n",
        "  os.mkdir(\"unbiased\")\n",
        "os.chdir(\"./unbiased\")\n",
        "cpath=os.getcwd()\n",
        "os.system('cp /content/alphafold2rave/CSP_data/plumed_unb.dat .')\n",
        "plumedfile=os.path.join(cpath,plumedfile)\n",
        "for index in listindices:\n",
        "  os.mkdir(f'{index}')\n",
        "  os.chdir(f'./{index}')\n",
        "  os.system(f\"cp /content/Structures/pred_{index}.pdb .\")\n",
        "  rave.run_unbiased(on_gpu,plumedfile,dt,temp,freq,nstep,index)\n",
        "  os.chdir(\"..\")\n",
        "\n",
        "for index in listindices:\n",
        "  os.chdir(f'/content/unbiased/{index}')\n",
        "  if os.path.isfile('bck.0.COLVAR_unb.dat'):\n",
        "    os.remove('COLVAR_unb.dat')\n",
        "    os.replace('bck.0.COLVAR_unb.dat','COLVAR_unb.dat')\n",
        "os.chdir('/content')\n",
        "\n",
        "t2 = time.perf_counter()\n",
        "print(f'time taken to run:{(t2-t1)/60:.2f} mins')"
      ]
    },
    {
      "cell_type": "code",
      "execution_count": null,
      "metadata": {
        "colab": {
          "base_uri": "https://localhost:8080/"
        },
        "id": "lXjNDnsT-H0F",
        "outputId": "1d5f875a-c181-46fb-8e5c-5cc26aa21125"
      },
      "outputs": [
        {
          "name": "stdout",
          "output_type": "stream",
          "text": [
            "/content\n"
          ]
        }
      ],
      "source": [
        "#@title SPIB on unbiased simulations\n",
        "%cd /content/\n",
        "if os.path.isdir(\"SPIB_unbiased\"):\n",
        "  os.system(\"rm -r SPIB_unbiased\")\n",
        "cvs=[]\n",
        "os.mkdir(\"SPIB_unbiased\")\n",
        "os.chdir(\"SPIB_unbiased\")\n",
        "num_state=len(listindices)*2\n",
        "for i,index in enumerate(listindices):\n",
        "    cvs.append(np.loadtxt(\"../unbiased/%i/COLVAR_unb.dat\"%index)[:,1:])\n",
        "    np.save(\"colvar_%i_unb.npy\"%i,cvs[i])\n",
        "    lentraj=len(cvs[i])\n",
        "    zeroone=np.hstack([np.zeros(int(lentraj/2),dtype=np.int8),np.ones(lentraj-int(lentraj/2),dtype=np.int8)])\n",
        "    initlabels=np.eye(num_state)[zeroone+int(i*2)]\n",
        "    np.save(\"labels_%i_unb.npy\"%i,initlabels)\n",
        "\n",
        "dt=2\n",
        "\n",
        "\n",
        "f_nodt=open('../alphafold2rave/sample_config.ini')\n",
        "f=open('config.ini','w')\n",
        "lines=f_nodt.readlines()\n",
        "lines.insert(2,f'dt =[{dt}]\\n')\n",
        "f.writelines(lines)\n",
        "f_nodt.close()\n",
        "\n",
        "unbpath=\"unbiased\"\n",
        "\n",
        "f.write(\"\\n traj_data = [%s]\\n\"%\",\".join([\"%s/colvar_%i_unb.npy\"%(unbpath,i) for i in range(len(cvs))]))\n",
        "\n",
        "f.write(\"\\n initial_labels = [%s]\\n\"%\",\".join([\"%s/labels_%i_unb.npy\"%(unbpath,i) for i in range(len(cvs))]))\n",
        "\n",
        "f.write(\"\\n traj_weights \\n\")\n",
        "\n",
        "f.close()\n",
        "\n",
        "os.chdir(\"..\")\n",
        "%mv SPIB_unbiased State-Predictive-Information-Bottleneck/unbiased"
      ]
    },
    {
      "cell_type": "code",
      "execution_count": null,
      "metadata": {
        "colab": {
          "base_uri": "https://localhost:8080/"
        },
        "id": "bYSHlVCX0_Tk",
        "outputId": "ae449ba0-6b22-4732-b2e2-529af7b608f1"
      },
      "outputs": [
        {
          "name": "stdout",
          "output_type": "stream",
          "text": [
            "/content/State-Predictive-Information-Bottleneck\n",
            "tensor([0.2929, 0.0000, 0.0000, 0.0000, 0.7071, 0.0000])\n",
            "State population change=0.687463\n",
            "Update lr to 0.010000\n",
            "Epoch: 1\n",
            "\n",
            "tensor([0.2929, 0.0000, 0.0000, 0.0000, 0.7071, 0.0000])\n",
            "State population change=0.000000\n",
            "Update lr to 0.010000\n",
            "Epoch: 2\n",
            "\n",
            "tensor([0.2929, 0.0000, 0.0000, 0.0000, 0.7071, 0.0000])\n",
            "State population change=0.000000\n",
            "Update lr to 0.010000\n",
            "Epoch: 3\n",
            "\n",
            "tensor([0.2929, 0.0000, 0.0000, 0.0000, 0.7071, 0.0000])\n",
            "State population change=0.000000\n",
            "Update lr to 0.010000\n",
            "Update 1\n",
            "\n",
            "Epoch: 0\n",
            "\n",
            "tensor([0.2929, 0.0000, 0.0000, 0.0000, 0.7071, 0.0000])\n",
            "State population change=0.000000\n",
            "Update lr to 0.010000\n",
            "Epoch: 1\n",
            "\n",
            "tensor([0.2929, 0.0000, 0.0000, 0.0000, 0.7071, 0.0000])\n",
            "State population change=0.000000\n",
            "Update lr to 0.010000\n",
            "Epoch: 2\n",
            "\n",
            "tensor([0.2929, 0.0000, 0.0000, 0.0000, 0.7071, 0.0000])\n",
            "State population change=0.000000\n",
            "Update lr to 0.010000\n",
            "Update 2\n",
            "\n",
            "Epoch: 0\n",
            "\n",
            "tensor([0.2929, 0.0000, 0.0000, 0.0000, 0.7071, 0.0000])\n",
            "State population change=0.000000\n",
            "Update lr to 0.010000\n",
            "Epoch: 1\n",
            "\n",
            "tensor([0.2929, 0.0000, 0.0000, 0.0000, 0.7071, 0.0000])\n",
            "State population change=0.000000\n",
            "Update lr to 0.010000\n",
            "Epoch: 2\n",
            "\n",
            "tensor([0.2929, 0.0000, 0.0000, 0.0000, 0.7071, 0.0000])\n",
            "State population change=0.000000\n",
            "Update lr to 0.010000\n",
            "Update 3\n",
            "\n",
            "Epoch: 0\n",
            "\n",
            "tensor([0.2929, 0.0000, 0.0000, 0.0000, 0.7071, 0.0000])\n",
            "State population change=0.000000\n",
            "Update lr to 0.010000\n",
            "Epoch: 1\n",
            "\n",
            "tensor([0.2929, 0.0000, 0.0000, 0.0000, 0.7071, 0.0000])\n",
            "State population change=0.000000\n",
            "Update lr to 0.010000\n",
            "Epoch: 2\n",
            "\n",
            "tensor([0.2929, 0.0000, 0.0000, 0.0000, 0.7071, 0.0000])\n",
            "State population change=0.000000\n",
            "Update lr to 0.010000\n",
            "Update 4\n",
            "\n",
            "Epoch: 0\n",
            "\n",
            "tensor([0.2929, 0.0000, 0.0000, 0.0000, 0.7071, 0.0000])\n",
            "State population change=0.000000\n",
            "Update lr to 0.010000\n",
            "Epoch: 1\n",
            "\n",
            "tensor([0.2929, 0.0000, 0.0000, 0.0000, 0.7071, 0.0000])\n",
            "State population change=0.000000\n",
            "Update lr to 0.010000\n",
            "Epoch: 2\n",
            "\n",
            "tensor([0.2929, 0.0000, 0.0000, 0.0000, 0.7071, 0.0000])\n",
            "State population change=0.000000\n",
            "Update lr to 0.010000\n",
            "Update 5\n",
            "\n",
            "Epoch: 0\n",
            "\n",
            "tensor([0.2929, 0.0000, 0.0000, 0.0000, 0.7071, 0.0000])\n",
            "State population change=0.000000\n",
            "Update lr to 0.010000\n",
            "Epoch: 1\n",
            "\n",
            "tensor([0.2929, 0.0000, 0.0000, 0.0000, 0.7071, 0.0000])\n",
            "State population change=0.000000\n",
            "Update lr to 0.010000\n",
            "Epoch: 2\n",
            "\n",
            "tensor([0.2929, 0.0000, 0.0000, 0.0000, 0.7071, 0.0000])\n",
            "State population change=0.000000\n",
            "Update lr to 0.010000\n",
            "Update 6\n",
            "\n",
            "Epoch: 0\n",
            "\n",
            "tensor([0.2929, 0.0000, 0.0000, 0.0000, 0.7071, 0.0000])\n",
            "State population change=0.000000\n",
            "Update lr to 0.010000\n",
            "Epoch: 1\n",
            "\n",
            "tensor([0.2929, 0.0000, 0.0000, 0.0000, 0.7071, 0.0000])\n",
            "State population change=0.000000\n",
            "Update lr to 0.010000\n",
            "Epoch: 2\n",
            "\n",
            "tensor([0.2929, 0.0000, 0.0000, 0.0000, 0.7071, 0.0000])\n",
            "State population change=0.000000\n",
            "Update lr to 0.010000\n",
            "Update 7\n",
            "\n",
            "Epoch: 0\n",
            "\n",
            "tensor([0.2929, 0.0000, 0.0000, 0.0000, 0.7071, 0.0000])\n",
            "State population change=0.000000\n",
            "Update lr to 0.010000\n",
            "Epoch: 1\n",
            "\n",
            "tensor([0.2929, 0.0000, 0.0000, 0.0000, 0.7071, 0.0000])\n",
            "State population change=0.000000\n",
            "Update lr to 0.010000\n",
            "Epoch: 2\n",
            "\n",
            "tensor([0.2929, 0.0000, 0.0000, 0.0000, 0.7071, 0.0000])\n",
            "State population change=0.000000\n",
            "Update lr to 0.010000\n",
            "Update 8\n",
            "\n",
            "Epoch: 0\n",
            "\n",
            "tensor([0.2929, 0.0000, 0.0000, 0.0000, 0.7071, 0.0000])\n",
            "State population change=0.000000\n",
            "Update lr to 0.010000\n",
            "Epoch: 1\n",
            "\n",
            "tensor([0.2929, 0.0000, 0.0000, 0.0000, 0.7071, 0.0000])\n",
            "State population change=0.000000\n",
            "Update lr to 0.010000\n",
            "Epoch: 2\n",
            "\n",
            "tensor([0.2929, 0.0000, 0.0000, 0.0000, 0.7071, 0.0000])\n",
            "State population change=0.000000\n",
            "Update lr to 0.010000\n",
            "Total training time: 0.207070\n",
            "Final: 0\n",
            "Loss (train) 1.729096\tKL loss (train): 4.633406\n",
            "Reconstruction loss (train) 1.682762\n",
            "Loss (test) 1.710518\tKL loss (train): 2.812480\n",
            "Reconstruction loss (test) 1.682393\n",
            "dt: 2\t Beta: 0.010000\t Learning_rate: 0.010000\n"
          ]
        },
        {
          "name": "stderr",
          "output_type": "stream",
          "text": [
            "/usr/local/lib/python3.7/site-packages/torch/optim/lr_scheduler.py:134: UserWarning: Detected call of `lr_scheduler.step()` before `optimizer.step()`. In PyTorch 1.1.0 and later, you should call them in the opposite order: `optimizer.step()` before `lr_scheduler.step()`.  Failure to do this will result in PyTorch skipping the first value of the learning rate schedule. See more details at https://pytorch.org/docs/stable/optim.html#how-to-adjust-learning-rate\n",
            "  \"https://pytorch.org/docs/stable/optim.html#how-to-adjust-learning-rate\", UserWarning)\n"
          ]
        }
      ],
      "source": [
        "%cd /content/State-Predictive-Information-Bottleneck/\n",
        "%run test_model_advanced.py -config unbiased/config.ini"
      ]
    },
    {
      "cell_type": "code",
      "execution_count": null,
      "metadata": {
        "id": "JMH0H7urJeCo"
      },
      "outputs": [],
      "source": [
        "dt=2"
      ]
    },
    {
      "cell_type": "code",
      "execution_count": null,
      "metadata": {
        "colab": {
          "base_uri": "https://localhost:8080/",
          "height": 240
        },
        "id": "iX5xfkA6miEG",
        "outputId": "b6ad6912-0b45-4e02-ceca-1ce85efce1f1"
      },
      "outputs": [
        {
          "ename": "NameError",
          "evalue": "ignored",
          "output_type": "error",
          "traceback": [
            "\u001b[0;31m---------------------------------------------------------------------------\u001b[0m",
            "\u001b[0;31mNameError\u001b[0m                                 Traceback (most recent call last)",
            "\u001b[0;32m<ipython-input-10-e390822d87b5>\u001b[0m in \u001b[0;36m<module>\u001b[0;34m\u001b[0m\n\u001b[1;32m      2\u001b[0m \u001b[0mprefix\u001b[0m\u001b[0;34m=\u001b[0m\u001b[0;34m'SPIB/Unweighted_d=2_t=%i_b=0.0100_learn=0.010000_'\u001b[0m\u001b[0;34m%\u001b[0m\u001b[0mdt\u001b[0m\u001b[0;34m\u001b[0m\u001b[0;34m\u001b[0m\u001b[0m\n\u001b[1;32m      3\u001b[0m \u001b[0mweights\u001b[0m\u001b[0;34m=\u001b[0m\u001b[0mnp\u001b[0m\u001b[0;34m.\u001b[0m\u001b[0mload\u001b[0m\u001b[0;34m(\u001b[0m\u001b[0mprefix\u001b[0m\u001b[0;34m+\u001b[0m\u001b[0;34m\"z_mean_encoder_weight0.npy\"\u001b[0m\u001b[0;34m)\u001b[0m\u001b[0;34m\u001b[0m\u001b[0;34m\u001b[0m\u001b[0m\n\u001b[0;32m----> 4\u001b[0;31m \u001b[0mlspace\u001b[0m\u001b[0;34m=\u001b[0m\u001b[0;34m[\u001b[0m\u001b[0mnp\u001b[0m\u001b[0;34m.\u001b[0m\u001b[0mload\u001b[0m\u001b[0;34m(\u001b[0m\u001b[0mprefix\u001b[0m\u001b[0;34m+\u001b[0m\u001b[0;34m\"traj%i_mean_representation0.npy\"\u001b[0m\u001b[0;34m%\u001b[0m\u001b[0mi\u001b[0m\u001b[0;34m)\u001b[0m \u001b[0;32mfor\u001b[0m \u001b[0mi\u001b[0m \u001b[0;32min\u001b[0m \u001b[0mrange\u001b[0m\u001b[0;34m(\u001b[0m\u001b[0mlen\u001b[0m\u001b[0;34m(\u001b[0m\u001b[0mcvs\u001b[0m\u001b[0;34m)\u001b[0m\u001b[0;34m)\u001b[0m\u001b[0;34m]\u001b[0m\u001b[0;34m\u001b[0m\u001b[0;34m\u001b[0m\u001b[0m\n\u001b[0m\u001b[1;32m      5\u001b[0m \u001b[0mlstacked\u001b[0m\u001b[0;34m=\u001b[0m\u001b[0mnp\u001b[0m\u001b[0;34m.\u001b[0m\u001b[0mvstack\u001b[0m\u001b[0;34m(\u001b[0m\u001b[0;34m[\u001b[0m\u001b[0mnp\u001b[0m\u001b[0;34m.\u001b[0m\u001b[0mhstack\u001b[0m\u001b[0;34m(\u001b[0m\u001b[0;34m[\u001b[0m\u001b[0mlspace\u001b[0m\u001b[0;34m[\u001b[0m\u001b[0mj\u001b[0m\u001b[0;34m]\u001b[0m\u001b[0;34m[\u001b[0m\u001b[0;34m:\u001b[0m\u001b[0;34m,\u001b[0m\u001b[0mi\u001b[0m\u001b[0;34m]\u001b[0m \u001b[0;32mfor\u001b[0m \u001b[0mj\u001b[0m \u001b[0;32min\u001b[0m \u001b[0mrange\u001b[0m\u001b[0;34m(\u001b[0m\u001b[0mlen\u001b[0m\u001b[0;34m(\u001b[0m\u001b[0mcvs\u001b[0m\u001b[0;34m)\u001b[0m\u001b[0;34m)\u001b[0m\u001b[0;34m]\u001b[0m\u001b[0;34m)\u001b[0m \u001b[0;32mfor\u001b[0m \u001b[0mi\u001b[0m \u001b[0;32min\u001b[0m \u001b[0mrange\u001b[0m\u001b[0;34m(\u001b[0m\u001b[0;36m2\u001b[0m\u001b[0;34m)\u001b[0m\u001b[0;34m]\u001b[0m\u001b[0;34m)\u001b[0m\u001b[0;34m\u001b[0m\u001b[0;34m\u001b[0m\u001b[0m\n\u001b[1;32m      6\u001b[0m \u001b[0mwidth1\u001b[0m\u001b[0;34m=\u001b[0m\u001b[0mnp\u001b[0m\u001b[0;34m.\u001b[0m\u001b[0mstd\u001b[0m\u001b[0;34m(\u001b[0m\u001b[0mlstacked\u001b[0m\u001b[0;34m[\u001b[0m\u001b[0;36m0\u001b[0m\u001b[0;34m]\u001b[0m\u001b[0;34m)\u001b[0m\u001b[0;34m/\u001b[0m\u001b[0;36m5\u001b[0m\u001b[0;34m\u001b[0m\u001b[0;34m\u001b[0m\u001b[0m\n",
            "\u001b[0;31mNameError\u001b[0m: name 'cvs' is not defined"
          ]
        }
      ],
      "source": [
        "os.chdir(\"/content/State-Predictive-Information-Bottleneck\")\n",
        "prefix='SPIB/Unweighted_d=2_t=%i_b=0.0100_learn=0.010000_'%dt\n",
        "weights=np.load(prefix+\"z_mean_encoder_weight0.npy\")\n",
        "lspace=[np.load(prefix+\"traj%i_mean_representation0.npy\"%i) for i in range(len(cvs))]\n",
        "lstacked=np.vstack([np.hstack([lspace[j][:,i] for j in range(len(cvs))]) for i in range(2)])\n",
        "width1=np.std(lstacked[0])/5\n",
        "width2=np.std(lstacked[1])/5\n",
        "gridmin1=-10 #lstacked[0].min()*10\n",
        "gridmax1=10 #lstacked[0].max()*10\n",
        "gridmin2=-10 #lstacked[1].min()*10\n",
        "gridmax2=10 #lstacked[1].max()*10"
      ]
    },
    {
      "cell_type": "code",
      "execution_count": null,
      "metadata": {
        "id": "vyi3j_Hp1R_3"
      },
      "outputs": [],
      "source": [
        "#@title Biased simulations\n",
        "\n",
        "#@markdown Here we are using already solvated and equilibrated system(from GMX)\n",
        "\n",
        "# Inputs definition \n",
        "\n",
        "#@markdown metadynamics parameters\n",
        "height = 1.5 #@param{type:\"number\"}\n",
        "biasfactor=10 #@param{type:\"number\"}\n",
        "#@markdown Length of metadynamics simulation\n",
        "\n",
        "\n",
        "os.chdir(\"/content/\")\n",
        "!cp alphafold2rave/CSP_data/plumed_unb.dat plumed_unb.dat\n",
        "colvar=\"sc1_r1,cc1_r1,sc1_r2,cc1_r2,sc1_r3,cc1_r3,sc1_r5,cc1_r5,sc1_r6,cc1_r6,sc1_r7,cc1_r7,sc1_r8,cc1_r8,sc1_r9,cc1_r9,sc1_r10,cc1_r10,sc1_r11,cc1_r11,sc1_r12,cc1_r12,sc1_r13,cc1_r13,sc1_r15,cc1_r15,sc1_r17,cc1_r17,sc1_r18,cc1_r18,sc1_r19,cc1_r19,sc1_r20,cc1_r20,sc1_r21,cc1_r21,sc1_r24,cc1_r24,sc1_r25,cc1_r25,sc1_r26,cc1_r26,sc1_r27,cc1_r27,sc1_r28,cc1_r28,sc1_r29,cc1_r29,sc1_r30,cc1_r30,sc1_r31,cc1_r31,sc1_r33,cc1_r33,sc1_r34,cc1_r34,sc1_r36,cc1_r36,sc1_r38,cc1_r38,sc1_r39,cc1_r39,sc1_r40,cc1_r40,sc1_r41,cc1_r41,sc1_r42,cc1_r42,sc1_r43,cc1_r43,sc1_r45,cc1_r45,sc1_r46,cc1_r46,sc1_r47,cc1_r47,sc1_r48,cc1_r48,sc1_r49,cc1_r49,sc1_r50,cc1_r50,sc1_r51,cc1_r51,sc1_r52,cc1_r52,sc1_r53,cc1_r53,sc1_r55,cc1_r55,sc1_r56,cc1_r56,sc1_r58,cc1_r58,sc1_r59,cc1_r59,sc1_r62,cc1_r62,sc1_r63,cc1_r63,sc1_r64,cc1_r64,sc1_r65,cc1_r65,sc1_r66,cc1_r66,sc2_r1,cc2_r1,sc2_r2,cc2_r2,sc2_r3,cc2_r3,sc2_r5,cc2_r5,sc2_r7,cc2_r7,sc2_r8,cc2_r8,sc2_r9,cc2_r9,sc2_r10,cc2_r10,sc2_r11,cc2_r11,sc2_r12,cc2_r12,sc2_r13,cc2_r13,sc2_r15,cc2_r15,sc2_r17,cc2_r17,sc2_r18,cc2_r18,sc2_r19,cc2_r19,sc2_r21,cc2_r21,sc2_r25,cc2_r25,sc2_r27,cc2_r27,sc2_r29,cc2_r29,sc2_r30,cc2_r30,sc2_r33,cc2_r33,sc2_r34,cc2_r34,sc2_r36,cc2_r36,sc2_r38,cc2_r38,sc2_r39,cc2_r39,sc2_r41,cc2_r41,sc2_r42,cc2_r42,sc2_r43,cc2_r43,sc2_r45,cc2_r45,sc2_r46,cc2_r46,sc2_r49,cc2_r49,sc2_r50,cc2_r50,sc2_r51,cc2_r51,sc2_r53,cc2_r53,sc2_r55,cc2_r55,sc2_r56,cc2_r56,sc2_r58,cc2_r58,sc2_r59,cc2_r59,sc2_r62,cc2_r62,sc2_r65,cc2_r65,sc2_r66,cc2_r66,sc3_r1,cc3_r1,sc3_r2,cc3_r2,sc3_r3,cc3_r3,sc3_r5,cc3_r5,sc3_r7,cc3_r7,sc3_r12,cc3_r12,sc3_r13,cc3_r13,sc3_r19,cc3_r19,sc3_r21,cc3_r21,sc3_r34,cc3_r34,sc3_r36,cc3_r36,sc3_r39,cc3_r39,sc3_r42,cc3_r42,sc3_r43,cc3_r43,sc3_r45,cc3_r45,sc3_r46,cc3_r46,sc3_r50,cc3_r50,sc3_r53,cc3_r53,sc3_r56,cc3_r56,sc3_r59,cc3_r59,sc3_r65,cc3_r65,sc3_r66,cc3_r66,sc4_r3,cc4_r3,sc4_r5,cc4_r5,sc4_r7,cc4_r7,sc4_r13,cc4_r13,sc4_r39,cc4_r39,sc4_r56,cc4_r56,sc4_r65,cc4_r65,sc5_r3,cc5_r3,sc5_r56,cc5_r56\"\n",
        "plumedfile=\"plumed_unb.dat\"\n",
        "rave.make_biased_plumed(plumedfile,weights,colvar,height,biasfactor,width1,width2,gridmin1,gridmin2,gridmax1,gridmax2)"
      ]
    },
    {
      "cell_type": "code",
      "execution_count": null,
      "metadata": {
        "colab": {
          "base_uri": "https://localhost:8080/"
        },
        "id": "EEsE0UHFq3fX",
        "outputId": "c8d93cc7-ab59-40e4-d4c6-a0dc322a8149"
      },
      "outputs": [
        {
          "name": "stdout",
          "output_type": "stream",
          "text": [
            "/content/unbiased/1\n"
          ]
        }
      ],
      "source": [
        "%cd /content/unbiased/1/\n",
        "%cp ../../plumed_biased.dat plumed_biasd_1.dat\n",
        "on_gpu=True\n",
        "dt=0.004\n",
        "temp=300 \n",
        "nstep=40000\n",
        "listindices=[1,222]\n",
        "freq=1\n",
        "rave.run_biased(on_gpu,'plumed_biased.dat',dt,temp,freq,nstep,listindices[0])"
      ]
    },
    {
      "cell_type": "code",
      "execution_count": null,
      "metadata": {
        "colab": {
          "base_uri": "https://localhost:8080/",
          "height": 414
        },
        "id": "9JGJULWvrt5J",
        "outputId": "02e0d13f-3c6d-44f9-bc03-d6d581ae6177"
      },
      "outputs": [
        {
          "name": "stderr",
          "output_type": "stream",
          "text": [
            "/usr/local/lib/python3.7/dist-packages/ipykernel_launcher.py:14: RuntimeWarning: divide by zero encountered in log\n",
            "  \n",
            "/usr/local/lib/python3.7/dist-packages/ipykernel_launcher.py:14: UserWarning: The following kwargs were not used by contour: 'LineWidth'\n",
            "  \n",
            "/usr/local/lib/python3.7/dist-packages/ipykernel_launcher.py:17: RuntimeWarning: divide by zero encountered in log\n"
          ]
        },
        {
          "data": {
            "text/plain": [
              "Text(0, 0.5, '$\\\\chi_2$ (radians)')"
            ]
          },
          "execution_count": 15,
          "metadata": {},
          "output_type": "execute_result"
        },
        {
          "data": {
            "image/png": "[encoded data removed]",
            "text/plain": [
              "<Figure size 432x288 with 2 Axes>"
            ]
          },
          "metadata": {
            "needs_background": "light"
          },
          "output_type": "display_data"
        }
      ],
      "source": [
        "import numpy as np\n",
        "import matplotlib.pyplot as plt\n",
        "\n",
        "plumedfile=np.loadtxt(\"COLVAR_biased.dat\")[:,1:]\n",
        "CVs_metad=plumedfile[:,:250]\n",
        "\n",
        "w=np.exp(plumedfile[:,-1])\n",
        "\n",
        "t_af2=rave.getTrp8(CVs_metad)\n",
        "\n",
        "H,xlims,ylims=np.histogram2d(t_af2[0],t_af2[1],bins=10)\n",
        "xlims=(xlims[1:]+xlims[:-1])/2\n",
        "ylims=(ylims[1:]+ylims[:-1])/2\n",
        "plt.contourf(xlims,ylims,-np.log(H).T,\"-w\",levels=10,cmap=\"plasma\",LineWidth=1)\n",
        "cbar=plt.colorbar()\n",
        "cbar.set_label(\"Free energy $(K_BT)$\")\n",
        "plt.contour(xlims,ylims,-np.log(H).T,colors=\"black\",levels=10,linewidths=0.5)\n",
        "plt.gca().set_aspect('equal')\n",
        "plt.xlabel(\"$\\chi_1$ (radians)\")\n",
        "plt.ylabel(\"$\\chi_2$ (radians)\")\n"
      ]
    },
    {
      "cell_type": "code",
      "execution_count": null,
      "metadata": {
        "colab": {
          "base_uri": "https://localhost:8080/",
          "height": 283
        },
        "id": "sFIGpsm269UZ",
        "outputId": "cef90ac1-97da-4e8c-f657-b4e0dcf0fe12"
      },
      "outputs": [
        {
          "data": {
            "text/plain": [
              "[<matplotlib.lines.Line2D at 0x7f3e271c3050>]"
            ]
          },
          "execution_count": 19,
          "metadata": {},
          "output_type": "execute_result"
        },
        {
          "data": {
            "image/png": "[encoded data removed]",
            "text/plain": [
              "<Figure size 432x288 with 1 Axes>"
            ]
          },
          "metadata": {
            "needs_background": "light"
          },
          "output_type": "display_data"
        }
      ],
      "source": [
        "plt.plot(t_af2[0],t_af2[1])"
      ]
    },
    {
      "cell_type": "code",
      "execution_count": null,
      "metadata": {
        "id": "7rfwsfBC8WbJ"
      },
      "outputs": [],
      "source": []
    }
  ],
  "metadata": {
    "accelerator": "GPU",
    "colab": {
      "collapsed_sections": [
        "r0w5GZQcHirt",
        "w2lt11PSHeGi"
      ],
      "machine_shape": "hm",
      "provenance": [],
      "include_colab_link": true
    },
    "gpuClass": "premium",
    "kernelspec": {
      "display_name": "Python 3",
      "name": "python3"
    },
    "language_info": {
      "name": "python"
    },
    "widgets": {
      "application/vnd.jupyter.widget-state+json": {
        "0ae04a6f7ba14cd789589707b6a54243": {
          "model_module": "@jupyter-widgets/controls",
          "model_module_version": "1.5.0",
          "model_name": "HBoxModel",
          "state": {
            "_dom_classes": [],
            "_model_module": "@jupyter-widgets/controls",
            "_model_module_version": "1.5.0",
            "_model_name": "HBoxModel",
            "_view_count": null,
            "_view_module": "@jupyter-widgets/controls",
            "_view_module_version": "1.5.0",
            "_view_name": "HBoxView",
            "box_style": "",
            "children": [
              "IPY_MODEL_23ceb79ede934f4ebc8f8c368d6bd9d0",
              "IPY_MODEL_69010386fe6446a1be87bf8b71988274",
              "IPY_MODEL_654bd37f78f5477ebcd5bdce8eb97d38"
            ],
            "layout": "IPY_MODEL_db727556a16a4cda8fced4d35a6cfab1"
          }
        },
        "1a963a0277e24366a54f17f499dea8ce": {
          "model_module": "@jupyter-widgets/base",
          "model_module_version": "1.2.0",
          "model_name": "LayoutModel",
          "state": {
            "_model_module": "@jupyter-widgets/base",
            "_model_module_version": "1.2.0",
            "_model_name": "LayoutModel",
            "_view_count": null,
            "_view_module": "@jupyter-widgets/base",
            "_view_module_version": "1.2.0",
            "_view_name": "LayoutView",
            "align_content": null,
            "align_items": null,
            "align_self": null,
            "border": null,
            "bottom": null,
            "display": null,
            "flex": null,
            "flex_flow": null,
            "grid_area": null,
            "grid_auto_columns": null,
            "grid_auto_flow": null,
            "grid_auto_rows": null,
            "grid_column": null,
            "grid_gap": null,
            "grid_row": null,
            "grid_template_areas": null,
            "grid_template_columns": null,
            "grid_template_rows": null,
            "height": null,
            "justify_content": null,
            "justify_items": null,
            "left": null,
            "margin": null,
            "max_height": null,
            "max_width": null,
            "min_height": null,
            "min_width": null,
            "object_fit": null,
            "object_position": null,
            "order": null,
            "overflow": null,
            "overflow_x": null,
            "overflow_y": null,
            "padding": null,
            "right": null,
            "top": null,
            "visibility": null,
            "width": null
          }
        },
        "22451daeb3164e4796430510d3ae65ab": {
          "model_module": "@jupyter-widgets/controls",
          "model_module_version": "1.5.0",
          "model_name": "DescriptionStyleModel",
          "state": {
            "_model_module": "@jupyter-widgets/controls",
            "_model_module_version": "1.5.0",
            "_model_name": "DescriptionStyleModel",
            "_view_count": null,
            "_view_module": "@jupyter-widgets/base",
            "_view_module_version": "1.2.0",
            "_view_name": "StyleView",
            "description_width": ""
          }
        },
        "23ceb79ede934f4ebc8f8c368d6bd9d0": {
          "model_module": "@jupyter-widgets/controls",
          "model_module_version": "1.5.0",
          "model_name": "HTMLModel",
          "state": {
            "_dom_classes": [],
            "_model_module": "@jupyter-widgets/controls",
            "_model_module_version": "1.5.0",
            "_model_name": "HTMLModel",
            "_view_count": null,
            "_view_module": "@jupyter-widgets/controls",
            "_view_module_version": "1.5.0",
            "_view_name": "HTMLView",
            "description": "",
            "description_tooltip": null,
            "layout": "IPY_MODEL_6505db29a1e940de81080d7d3aebcec4",
            "placeholder": "​",
            "style": "IPY_MODEL_d387df728d7246718567c892806aa1c5",
            "value": "COMPLETE: 100%"
          }
        },
        "2a15057a137542368b9d33c2dfaec84f": {
          "model_module": "@jupyter-widgets/controls",
          "model_module_version": "1.5.0",
          "model_name": "ProgressStyleModel",
          "state": {
            "_model_module": "@jupyter-widgets/controls",
            "_model_module_version": "1.5.0",
            "_model_name": "ProgressStyleModel",
            "_view_count": null,
            "_view_module": "@jupyter-widgets/base",
            "_view_module_version": "1.2.0",
            "_view_name": "StyleView",
            "bar_color": null,
            "description_width": ""
          }
        },
        "2d8ee76947f341208fe69f86953d0803": {
          "model_module": "@jupyter-widgets/base",
          "model_module_version": "1.2.0",
          "model_name": "LayoutModel",
          "state": {
            "_model_module": "@jupyter-widgets/base",
            "_model_module_version": "1.2.0",
            "_model_name": "LayoutModel",
            "_view_count": null,
            "_view_module": "@jupyter-widgets/base",
            "_view_module_version": "1.2.0",
            "_view_name": "LayoutView",
            "align_content": null,
            "align_items": null,
            "align_self": null,
            "border": null,
            "bottom": null,
            "display": null,
            "flex": null,
            "flex_flow": null,
            "grid_area": null,
            "grid_auto_columns": null,
            "grid_auto_flow": null,
            "grid_auto_rows": null,
            "grid_column": null,
            "grid_gap": null,
            "grid_row": null,
            "grid_template_areas": null,
            "grid_template_columns": null,
            "grid_template_rows": null,
            "height": null,
            "justify_content": null,
            "justify_items": null,
            "left": null,
            "margin": null,
            "max_height": null,
            "max_width": null,
            "min_height": null,
            "min_width": null,
            "object_fit": null,
            "object_position": null,
            "order": null,
            "overflow": null,
            "overflow_x": null,
            "overflow_y": null,
            "padding": null,
            "right": null,
            "top": null,
            "visibility": null,
            "width": null
          }
        },
        "2dff2148c9aa4652a2b7b43e4520c1cf": {
          "model_module": "@jupyter-widgets/base",
          "model_module_version": "1.2.0",
          "model_name": "LayoutModel",
          "state": {
            "_model_module": "@jupyter-widgets/base",
            "_model_module_version": "1.2.0",
            "_model_name": "LayoutModel",
            "_view_count": null,
            "_view_module": "@jupyter-widgets/base",
            "_view_module_version": "1.2.0",
            "_view_name": "LayoutView",
            "align_content": null,
            "align_items": null,
            "align_self": null,
            "border": null,
            "bottom": null,
            "display": null,
            "flex": null,
            "flex_flow": null,
            "grid_area": null,
            "grid_auto_columns": null,
            "grid_auto_flow": null,
            "grid_auto_rows": null,
            "grid_column": null,
            "grid_gap": null,
            "grid_row": null,
            "grid_template_areas": null,
            "grid_template_columns": null,
            "grid_template_rows": null,
            "height": null,
            "justify_content": null,
            "justify_items": null,
            "left": null,
            "margin": null,
            "max_height": null,
            "max_width": null,
            "min_height": null,
            "min_width": null,
            "object_fit": null,
            "object_position": null,
            "order": null,
            "overflow": null,
            "overflow_x": null,
            "overflow_y": null,
            "padding": null,
            "right": null,
            "top": null,
            "visibility": null,
            "width": null
          }
        },
        "39592ebcdc064933b0a2f966e0964c9c": {
          "model_module": "@jupyter-widgets/controls",
          "model_module_version": "1.5.0",
          "model_name": "DescriptionStyleModel",
          "state": {
            "_model_module": "@jupyter-widgets/controls",
            "_model_module_version": "1.5.0",
            "_model_name": "DescriptionStyleModel",
            "_view_count": null,
            "_view_module": "@jupyter-widgets/base",
            "_view_module_version": "1.2.0",
            "_view_name": "StyleView",
            "description_width": ""
          }
        },
        "528d150738494b639f20cdf3df1bdbcd": {
          "model_module": "@jupyter-widgets/controls",
          "model_module_version": "1.5.0",
          "model_name": "HTMLModel",
          "state": {
            "_dom_classes": [],
            "_model_module": "@jupyter-widgets/controls",
            "_model_module_version": "1.5.0",
            "_model_name": "HTMLModel",
            "_view_count": null,
            "_view_module": "@jupyter-widgets/controls",
            "_view_module_version": "1.5.0",
            "_view_name": "HTMLView",
            "description": "",
            "description_tooltip": null,
            "layout": "IPY_MODEL_1a963a0277e24366a54f17f499dea8ce",
            "placeholder": "​",
            "style": "IPY_MODEL_22451daeb3164e4796430510d3ae65ab",
            "value": " 640/640 [elapsed: 20:52 remaining: 00:00]"
          }
        },
        "5d6530447eae4074bcafa803cf60510d": {
          "model_module": "@jupyter-widgets/controls",
          "model_module_version": "1.5.0",
          "model_name": "HTMLModel",
          "state": {
            "_dom_classes": [],
            "_model_module": "@jupyter-widgets/controls",
            "_model_module_version": "1.5.0",
            "_model_name": "HTMLModel",
            "_view_count": null,
            "_view_module": "@jupyter-widgets/controls",
            "_view_module_version": "1.5.0",
            "_view_name": "HTMLView",
            "description": "",
            "description_tooltip": null,
            "layout": "IPY_MODEL_a3b70598ae9149abbf4488d14b142170",
            "placeholder": "​",
            "style": "IPY_MODEL_9b0b3d112a8b45b5a0bb1195a8d3e335",
            "value": "Running model_5_ptm_seed_127: 100%"
          }
        },
        "6505db29a1e940de81080d7d3aebcec4": {
          "model_module": "@jupyter-widgets/base",
          "model_module_version": "1.2.0",
          "model_name": "LayoutModel",
          "state": {
            "_model_module": "@jupyter-widgets/base",
            "_model_module_version": "1.2.0",
            "_model_name": "LayoutModel",
            "_view_count": null,
            "_view_module": "@jupyter-widgets/base",
            "_view_module_version": "1.2.0",
            "_view_name": "LayoutView",
            "align_content": null,
            "align_items": null,
            "align_self": null,
            "border": null,
            "bottom": null,
            "display": null,
            "flex": null,
            "flex_flow": null,
            "grid_area": null,
            "grid_auto_columns": null,
            "grid_auto_flow": null,
            "grid_auto_rows": null,
            "grid_column": null,
            "grid_gap": null,
            "grid_row": null,
            "grid_template_areas": null,
            "grid_template_columns": null,
            "grid_template_rows": null,
            "height": null,
            "justify_content": null,
            "justify_items": null,
            "left": null,
            "margin": null,
            "max_height": null,
            "max_width": null,
            "min_height": null,
            "min_width": null,
            "object_fit": null,
            "object_position": null,
            "order": null,
            "overflow": null,
            "overflow_x": null,
            "overflow_y": null,
            "padding": null,
            "right": null,
            "top": null,
            "visibility": null,
            "width": null
          }
        },
        "654bd37f78f5477ebcd5bdce8eb97d38": {
          "model_module": "@jupyter-widgets/controls",
          "model_module_version": "1.5.0",
          "model_name": "HTMLModel",
          "state": {
            "_dom_classes": [],
            "_model_module": "@jupyter-widgets/controls",
            "_model_module_version": "1.5.0",
            "_model_name": "HTMLModel",
            "_view_count": null,
            "_view_module": "@jupyter-widgets/controls",
            "_view_module_version": "1.5.0",
            "_view_name": "HTMLView",
            "description": "",
            "description_tooltip": null,
            "layout": "IPY_MODEL_f4bc8c83735b45738f06178c02f45390",
            "placeholder": "​",
            "style": "IPY_MODEL_39592ebcdc064933b0a2f966e0964c9c",
            "value": " 150/150 [elapsed: 00:02 remaining: 00:00]"
          }
        },
        "69010386fe6446a1be87bf8b71988274": {
          "model_module": "@jupyter-widgets/controls",
          "model_module_version": "1.5.0",
          "model_name": "FloatProgressModel",
          "state": {
            "_dom_classes": [],
            "_model_module": "@jupyter-widgets/controls",
            "_model_module_version": "1.5.0",
            "_model_name": "FloatProgressModel",
            "_view_count": null,
            "_view_module": "@jupyter-widgets/controls",
            "_view_module_version": "1.5.0",
            "_view_name": "ProgressView",
            "bar_style": "success",
            "description": "",
            "description_tooltip": null,
            "layout": "IPY_MODEL_b8640ed9c12c4f1e83d7a9bdf8516ee8",
            "max": 150,
            "min": 0,
            "orientation": "horizontal",
            "style": "IPY_MODEL_f3cf2f343fc3459ea7d684a262073a04",
            "value": 150
          }
        },
        "76daad3123584ce3bbe4901619adcdde": {
          "model_module": "@jupyter-widgets/base",
          "model_module_version": "1.2.0",
          "model_name": "LayoutModel",
          "state": {
            "_model_module": "@jupyter-widgets/base",
            "_model_module_version": "1.2.0",
            "_model_name": "LayoutModel",
            "_view_count": null,
            "_view_module": "@jupyter-widgets/base",
            "_view_module_version": "1.2.0",
            "_view_name": "LayoutView",
            "align_content": null,
            "align_items": null,
            "align_self": null,
            "border": null,
            "bottom": null,
            "display": null,
            "flex": null,
            "flex_flow": null,
            "grid_area": null,
            "grid_auto_columns": null,
            "grid_auto_flow": null,
            "grid_auto_rows": null,
            "grid_column": null,
            "grid_gap": null,
            "grid_row": null,
            "grid_template_areas": null,
            "grid_template_columns": null,
            "grid_template_rows": null,
            "height": null,
            "justify_content": null,
            "justify_items": null,
            "left": null,
            "margin": null,
            "max_height": null,
            "max_width": null,
            "min_height": null,
            "min_width": null,
            "object_fit": null,
            "object_position": null,
            "order": null,
            "overflow": null,
            "overflow_x": null,
            "overflow_y": null,
            "padding": null,
            "right": null,
            "top": null,
            "visibility": null,
            "width": null
          }
        },
        "8557c77c92e540f688585ecb85361601": {
          "model_module": "@jupyter-widgets/controls",
          "model_module_version": "1.5.0",
          "model_name": "DescriptionStyleModel",
          "state": {
            "_model_module": "@jupyter-widgets/controls",
            "_model_module_version": "1.5.0",
            "_model_name": "DescriptionStyleModel",
            "_view_count": null,
            "_view_module": "@jupyter-widgets/base",
            "_view_module_version": "1.2.0",
            "_view_name": "StyleView",
            "description_width": ""
          }
        },
        "93c68dc3536543f9a01467eb96d450a2": {
          "model_module": "@jupyter-widgets/controls",
          "model_module_version": "1.5.0",
          "model_name": "FloatProgressModel",
          "state": {
            "_dom_classes": [],
            "_model_module": "@jupyter-widgets/controls",
            "_model_module_version": "1.5.0",
            "_model_name": "FloatProgressModel",
            "_view_count": null,
            "_view_module": "@jupyter-widgets/controls",
            "_view_module_version": "1.5.0",
            "_view_name": "ProgressView",
            "bar_style": "success",
            "description": "",
            "description_tooltip": null,
            "layout": "IPY_MODEL_76daad3123584ce3bbe4901619adcdde",
            "max": 55,
            "min": 0,
            "orientation": "horizontal",
            "style": "IPY_MODEL_2a15057a137542368b9d33c2dfaec84f",
            "value": 55
          }
        },
        "9b0b3d112a8b45b5a0bb1195a8d3e335": {
          "model_module": "@jupyter-widgets/controls",
          "model_module_version": "1.5.0",
          "model_name": "DescriptionStyleModel",
          "state": {
            "_model_module": "@jupyter-widgets/controls",
            "_model_module_version": "1.5.0",
            "_model_name": "DescriptionStyleModel",
            "_view_count": null,
            "_view_module": "@jupyter-widgets/base",
            "_view_module_version": "1.2.0",
            "_view_name": "StyleView",
            "description_width": ""
          }
        },
        "9d24e98802cb409a80fbae112e70191f": {
          "model_module": "@jupyter-widgets/controls",
          "model_module_version": "1.5.0",
          "model_name": "HBoxModel",
          "state": {
            "_dom_classes": [],
            "_model_module": "@jupyter-widgets/controls",
            "_model_module_version": "1.5.0",
            "_model_name": "HBoxModel",
            "_view_count": null,
            "_view_module": "@jupyter-widgets/controls",
            "_view_module_version": "1.5.0",
            "_view_name": "HBoxView",
            "box_style": "",
            "children": [
              "IPY_MODEL_5d6530447eae4074bcafa803cf60510d",
              "IPY_MODEL_ff03aabb443443f8bc608a3560701054",
              "IPY_MODEL_528d150738494b639f20cdf3df1bdbcd"
            ],
            "layout": "IPY_MODEL_2dff2148c9aa4652a2b7b43e4520c1cf"
          }
        },
        "a3b70598ae9149abbf4488d14b142170": {
          "model_module": "@jupyter-widgets/base",
          "model_module_version": "1.2.0",
          "model_name": "LayoutModel",
          "state": {
            "_model_module": "@jupyter-widgets/base",
            "_model_module_version": "1.2.0",
            "_model_name": "LayoutModel",
            "_view_count": null,
            "_view_module": "@jupyter-widgets/base",
            "_view_module_version": "1.2.0",
            "_view_name": "LayoutView",
            "align_content": null,
            "align_items": null,
            "align_self": null,
            "border": null,
            "bottom": null,
            "display": null,
            "flex": null,
            "flex_flow": null,
            "grid_area": null,
            "grid_auto_columns": null,
            "grid_auto_flow": null,
            "grid_auto_rows": null,
            "grid_column": null,
            "grid_gap": null,
            "grid_row": null,
            "grid_template_areas": null,
            "grid_template_columns": null,
            "grid_template_rows": null,
            "height": null,
            "justify_content": null,
            "justify_items": null,
            "left": null,
            "margin": null,
            "max_height": null,
            "max_width": null,
            "min_height": null,
            "min_width": null,
            "object_fit": null,
            "object_position": null,
            "order": null,
            "overflow": null,
            "overflow_x": null,
            "overflow_y": null,
            "padding": null,
            "right": null,
            "top": null,
            "visibility": null,
            "width": null
          }
        },
        "a5957ea644e8408f93e64395d0b8596a": {
          "model_module": "@jupyter-widgets/base",
          "model_module_version": "1.2.0",
          "model_name": "LayoutModel",
          "state": {
            "_model_module": "@jupyter-widgets/base",
            "_model_module_version": "1.2.0",
            "_model_name": "LayoutModel",
            "_view_count": null,
            "_view_module": "@jupyter-widgets/base",
            "_view_module_version": "1.2.0",
            "_view_name": "LayoutView",
            "align_content": null,
            "align_items": null,
            "align_self": null,
            "border": null,
            "bottom": null,
            "display": null,
            "flex": null,
            "flex_flow": null,
            "grid_area": null,
            "grid_auto_columns": null,
            "grid_auto_flow": null,
            "grid_auto_rows": null,
            "grid_column": null,
            "grid_gap": null,
            "grid_row": null,
            "grid_template_areas": null,
            "grid_template_columns": null,
            "grid_template_rows": null,
            "height": null,
            "justify_content": null,
            "justify_items": null,
            "left": null,
            "margin": null,
            "max_height": null,
            "max_width": null,
            "min_height": null,
            "min_width": null,
            "object_fit": null,
            "object_position": null,
            "order": null,
            "overflow": null,
            "overflow_x": null,
            "overflow_y": null,
            "padding": null,
            "right": null,
            "top": null,
            "visibility": null,
            "width": null
          }
        },
        "af1ae852047f48b08a317a8232584b0d": {
          "model_module": "@jupyter-widgets/controls",
          "model_module_version": "1.5.0",
          "model_name": "ProgressStyleModel",
          "state": {
            "_model_module": "@jupyter-widgets/controls",
            "_model_module_version": "1.5.0",
            "_model_name": "ProgressStyleModel",
            "_view_count": null,
            "_view_module": "@jupyter-widgets/base",
            "_view_module_version": "1.2.0",
            "_view_name": "StyleView",
            "bar_color": null,
            "description_width": ""
          }
        },
        "b8640ed9c12c4f1e83d7a9bdf8516ee8": {
          "model_module": "@jupyter-widgets/base",
          "model_module_version": "1.2.0",
          "model_name": "LayoutModel",
          "state": {
            "_model_module": "@jupyter-widgets/base",
            "_model_module_version": "1.2.0",
            "_model_name": "LayoutModel",
            "_view_count": null,
            "_view_module": "@jupyter-widgets/base",
            "_view_module_version": "1.2.0",
            "_view_name": "LayoutView",
            "align_content": null,
            "align_items": null,
            "align_self": null,
            "border": null,
            "bottom": null,
            "display": null,
            "flex": null,
            "flex_flow": null,
            "grid_area": null,
            "grid_auto_columns": null,
            "grid_auto_flow": null,
            "grid_auto_rows": null,
            "grid_column": null,
            "grid_gap": null,
            "grid_row": null,
            "grid_template_areas": null,
            "grid_template_columns": null,
            "grid_template_rows": null,
            "height": null,
            "justify_content": null,
            "justify_items": null,
            "left": null,
            "margin": null,
            "max_height": null,
            "max_width": null,
            "min_height": null,
            "min_width": null,
            "object_fit": null,
            "object_position": null,
            "order": null,
            "overflow": null,
            "overflow_x": null,
            "overflow_y": null,
            "padding": null,
            "right": null,
            "top": null,
            "visibility": null,
            "width": null
          }
        },
        "bfb011f5fa03414b896106cde2a88f6b": {
          "model_module": "@jupyter-widgets/controls",
          "model_module_version": "1.5.0",
          "model_name": "DescriptionStyleModel",
          "state": {
            "_model_module": "@jupyter-widgets/controls",
            "_model_module_version": "1.5.0",
            "_model_name": "DescriptionStyleModel",
            "_view_count": null,
            "_view_module": "@jupyter-widgets/base",
            "_view_module_version": "1.2.0",
            "_view_name": "StyleView",
            "description_width": ""
          }
        },
        "cfe3dffbae854f72bb592b4fea635725": {
          "model_module": "@jupyter-widgets/controls",
          "model_module_version": "1.5.0",
          "model_name": "HBoxModel",
          "state": {
            "_dom_classes": [],
            "_model_module": "@jupyter-widgets/controls",
            "_model_module_version": "1.5.0",
            "_model_name": "HBoxModel",
            "_view_count": null,
            "_view_module": "@jupyter-widgets/controls",
            "_view_module_version": "1.5.0",
            "_view_name": "HBoxView",
            "box_style": "",
            "children": [
              "IPY_MODEL_e3984f53ea724ed2b42b87e94b219ab2",
              "IPY_MODEL_93c68dc3536543f9a01467eb96d450a2",
              "IPY_MODEL_d575aa35e99a4f099c835cce6da3fd07"
            ],
            "layout": "IPY_MODEL_2d8ee76947f341208fe69f86953d0803"
          }
        },
        "d387df728d7246718567c892806aa1c5": {
          "model_module": "@jupyter-widgets/controls",
          "model_module_version": "1.5.0",
          "model_name": "DescriptionStyleModel",
          "state": {
            "_model_module": "@jupyter-widgets/controls",
            "_model_module_version": "1.5.0",
            "_model_name": "DescriptionStyleModel",
            "_view_count": null,
            "_view_module": "@jupyter-widgets/base",
            "_view_module_version": "1.2.0",
            "_view_name": "StyleView",
            "description_width": ""
          }
        },
        "d575aa35e99a4f099c835cce6da3fd07": {
          "model_module": "@jupyter-widgets/controls",
          "model_module_version": "1.5.0",
          "model_name": "HTMLModel",
          "state": {
            "_dom_classes": [],
            "_model_module": "@jupyter-widgets/controls",
            "_model_module_version": "1.5.0",
            "_model_name": "HTMLModel",
            "_view_count": null,
            "_view_module": "@jupyter-widgets/controls",
            "_view_module_version": "1.5.0",
            "_view_name": "HTMLView",
            "description": "",
            "description_tooltip": null,
            "layout": "IPY_MODEL_e686aa0882a4430bba4d1a3b8282e025",
            "placeholder": "​",
            "style": "IPY_MODEL_bfb011f5fa03414b896106cde2a88f6b",
            "value": " 55/55 [elapsed: 00:43 remaining: 00:00]"
          }
        },
        "db727556a16a4cda8fced4d35a6cfab1": {
          "model_module": "@jupyter-widgets/base",
          "model_module_version": "1.2.0",
          "model_name": "LayoutModel",
          "state": {
            "_model_module": "@jupyter-widgets/base",
            "_model_module_version": "1.2.0",
            "_model_name": "LayoutModel",
            "_view_count": null,
            "_view_module": "@jupyter-widgets/base",
            "_view_module_version": "1.2.0",
            "_view_name": "LayoutView",
            "align_content": null,
            "align_items": null,
            "align_self": null,
            "border": null,
            "bottom": null,
            "display": null,
            "flex": null,
            "flex_flow": null,
            "grid_area": null,
            "grid_auto_columns": null,
            "grid_auto_flow": null,
            "grid_auto_rows": null,
            "grid_column": null,
            "grid_gap": null,
            "grid_row": null,
            "grid_template_areas": null,
            "grid_template_columns": null,
            "grid_template_rows": null,
            "height": null,
            "justify_content": null,
            "justify_items": null,
            "left": null,
            "margin": null,
            "max_height": null,
            "max_width": null,
            "min_height": null,
            "min_width": null,
            "object_fit": null,
            "object_position": null,
            "order": null,
            "overflow": null,
            "overflow_x": null,
            "overflow_y": null,
            "padding": null,
            "right": null,
            "top": null,
            "visibility": null,
            "width": null
          }
        },
        "e3984f53ea724ed2b42b87e94b219ab2": {
          "model_module": "@jupyter-widgets/controls",
          "model_module_version": "1.5.0",
          "model_name": "HTMLModel",
          "state": {
            "_dom_classes": [],
            "_model_module": "@jupyter-widgets/controls",
            "_model_module_version": "1.5.0",
            "_model_name": "HTMLModel",
            "_view_count": null,
            "_view_module": "@jupyter-widgets/controls",
            "_view_module_version": "1.5.0",
            "_view_name": "HTMLView",
            "description": "",
            "description_tooltip": null,
            "layout": "IPY_MODEL_a5957ea644e8408f93e64395d0b8596a",
            "placeholder": "​",
            "style": "IPY_MODEL_8557c77c92e540f688585ecb85361601",
            "value": "100%"
          }
        },
        "e686aa0882a4430bba4d1a3b8282e025": {
          "model_module": "@jupyter-widgets/base",
          "model_module_version": "1.2.0",
          "model_name": "LayoutModel",
          "state": {
            "_model_module": "@jupyter-widgets/base",
            "_model_module_version": "1.2.0",
            "_model_name": "LayoutModel",
            "_view_count": null,
            "_view_module": "@jupyter-widgets/base",
            "_view_module_version": "1.2.0",
            "_view_name": "LayoutView",
            "align_content": null,
            "align_items": null,
            "align_self": null,
            "border": null,
            "bottom": null,
            "display": null,
            "flex": null,
            "flex_flow": null,
            "grid_area": null,
            "grid_auto_columns": null,
            "grid_auto_flow": null,
            "grid_auto_rows": null,
            "grid_column": null,
            "grid_gap": null,
            "grid_row": null,
            "grid_template_areas": null,
            "grid_template_columns": null,
            "grid_template_rows": null,
            "height": null,
            "justify_content": null,
            "justify_items": null,
            "left": null,
            "margin": null,
            "max_height": null,
            "max_width": null,
            "min_height": null,
            "min_width": null,
            "object_fit": null,
            "object_position": null,
            "order": null,
            "overflow": null,
            "overflow_x": null,
            "overflow_y": null,
            "padding": null,
            "right": null,
            "top": null,
            "visibility": null,
            "width": null
          }
        },
        "f3cf2f343fc3459ea7d684a262073a04": {
          "model_module": "@jupyter-widgets/controls",
          "model_module_version": "1.5.0",
          "model_name": "ProgressStyleModel",
          "state": {
            "_model_module": "@jupyter-widgets/controls",
            "_model_module_version": "1.5.0",
            "_model_name": "ProgressStyleModel",
            "_view_count": null,
            "_view_module": "@jupyter-widgets/base",
            "_view_module_version": "1.2.0",
            "_view_name": "StyleView",
            "bar_color": null,
            "description_width": ""
          }
        },
        "f4429e4195cb4299939bbe5d1d39611c": {
          "model_module": "@jupyter-widgets/base",
          "model_module_version": "1.2.0",
          "model_name": "LayoutModel",
          "state": {
            "_model_module": "@jupyter-widgets/base",
            "_model_module_version": "1.2.0",
            "_model_name": "LayoutModel",
            "_view_count": null,
            "_view_module": "@jupyter-widgets/base",
            "_view_module_version": "1.2.0",
            "_view_name": "LayoutView",
            "align_content": null,
            "align_items": null,
            "align_self": null,
            "border": null,
            "bottom": null,
            "display": null,
            "flex": null,
            "flex_flow": null,
            "grid_area": null,
            "grid_auto_columns": null,
            "grid_auto_flow": null,
            "grid_auto_rows": null,
            "grid_column": null,
            "grid_gap": null,
            "grid_row": null,
            "grid_template_areas": null,
            "grid_template_columns": null,
            "grid_template_rows": null,
            "height": null,
            "justify_content": null,
            "justify_items": null,
            "left": null,
            "margin": null,
            "max_height": null,
            "max_width": null,
            "min_height": null,
            "min_width": null,
            "object_fit": null,
            "object_position": null,
            "order": null,
            "overflow": null,
            "overflow_x": null,
            "overflow_y": null,
            "padding": null,
            "right": null,
            "top": null,
            "visibility": null,
            "width": null
          }
        },
        "f4bc8c83735b45738f06178c02f45390": {
          "model_module": "@jupyter-widgets/base",
          "model_module_version": "1.2.0",
          "model_name": "LayoutModel",
          "state": {
            "_model_module": "@jupyter-widgets/base",
            "_model_module_version": "1.2.0",
            "_model_name": "LayoutModel",
            "_view_count": null,
            "_view_module": "@jupyter-widgets/base",
            "_view_module_version": "1.2.0",
            "_view_name": "LayoutView",
            "align_content": null,
            "align_items": null,
            "align_self": null,
            "border": null,
            "bottom": null,
            "display": null,
            "flex": null,
            "flex_flow": null,
            "grid_area": null,
            "grid_auto_columns": null,
            "grid_auto_flow": null,
            "grid_auto_rows": null,
            "grid_column": null,
            "grid_gap": null,
            "grid_row": null,
            "grid_template_areas": null,
            "grid_template_columns": null,
            "grid_template_rows": null,
            "height": null,
            "justify_content": null,
            "justify_items": null,
            "left": null,
            "margin": null,
            "max_height": null,
            "max_width": null,
            "min_height": null,
            "min_width": null,
            "object_fit": null,
            "object_position": null,
            "order": null,
            "overflow": null,
            "overflow_x": null,
            "overflow_y": null,
            "padding": null,
            "right": null,
            "top": null,
            "visibility": null,
            "width": null
          }
        },
        "ff03aabb443443f8bc608a3560701054": {
          "model_module": "@jupyter-widgets/controls",
          "model_module_version": "1.5.0",
          "model_name": "FloatProgressModel",
          "state": {
            "_dom_classes": [],
            "_model_module": "@jupyter-widgets/controls",
            "_model_module_version": "1.5.0",
            "_model_name": "FloatProgressModel",
            "_view_count": null,
            "_view_module": "@jupyter-widgets/controls",
            "_view_module_version": "1.5.0",
            "_view_name": "ProgressView",
            "bar_style": "success",
            "description": "",
            "description_tooltip": null,
            "layout": "IPY_MODEL_f4429e4195cb4299939bbe5d1d39611c",
            "max": 640,
            "min": 0,
            "orientation": "horizontal",
            "style": "IPY_MODEL_af1ae852047f48b08a317a8232584b0d",
            "value": 640
          }
        }
      }
    }
  },
  "nbformat": 4,
  "nbformat_minor": 0
}